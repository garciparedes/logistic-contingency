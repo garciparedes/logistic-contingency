{
 "cells": [
  {
   "cell_type": "markdown",
   "metadata": {},
   "source": [
    "# Regresión Logística sobre Tabla de Contingencia"
   ]
  },
  {
   "cell_type": "markdown",
   "metadata": {},
   "source": [
    "La respuesta binaria a cierto estimulo está relacionada con unas variables x (numerica), t (cualitativa)  y z (cualitativa). Se han realizado 100 experimentos aleatorios en cada una de las combinaciones correspondientes a diferentes niveles de las variables anteriores. La tabla datos contiene las variables explicativas junto con la variable y (número de ocurrencias de una de las respuestas en los 100 experimentos realizados). Identifica el modelo más interesante para ajustar. Consigue intervalos de confianza para las odds ratio (Wald y verosimilitud perfil), para la dosis letal 40% (Wald) y para las predicciones en los niveles de las variables explicativas estudiados (Wald). Representa las curvas correspondientes a la predicción."
   ]
  },
  {
   "cell_type": "markdown",
   "metadata": {},
   "source": [
    "#### Configuración de Entorno"
   ]
  },
  {
   "cell_type": "code",
   "execution_count": 1,
   "metadata": {},
   "outputs": [],
   "source": [
    "rm(list = ls())"
   ]
  },
  {
   "cell_type": "code",
   "execution_count": 2,
   "metadata": {},
   "outputs": [
    {
     "name": "stderr",
     "output_type": "stream",
     "text": [
      "\n",
      "Attaching package: ‘dplyr’\n",
      "\n",
      "The following objects are masked from ‘package:stats’:\n",
      "\n",
      "    filter, lag\n",
      "\n",
      "The following objects are masked from ‘package:base’:\n",
      "\n",
      "    intersect, setdiff, setequal, union\n",
      "\n",
      "\n",
      "Attaching package: ‘MASS’\n",
      "\n",
      "The following object is masked from ‘package:dplyr’:\n",
      "\n",
      "    select\n",
      "\n"
     ]
    }
   ],
   "source": [
    "library(magrittr)\n",
    "library(dplyr)\n",
    "library(ggplot2)\n",
    "library(MASS)"
   ]
  },
  {
   "cell_type": "code",
   "execution_count": 3,
   "metadata": {},
   "outputs": [],
   "source": [
    "options(repr.plot.width = 8, repr.plot.height = 4)"
   ]
  },
  {
   "cell_type": "markdown",
   "metadata": {},
   "source": [
    "#### Lectura de Datos"
   ]
  },
  {
   "cell_type": "code",
   "execution_count": 4,
   "metadata": {},
   "outputs": [],
   "source": [
    "datos <- read.table('datos.txt', header = TRUE)"
   ]
  },
  {
   "cell_type": "code",
   "execution_count": 5,
   "metadata": {},
   "outputs": [],
   "source": [
    "colnames(datos)[2] <- \"x\"\n",
    "datos$z <- as.factor(datos$z)\n",
    "datos$t <- as.factor(datos$t)"
   ]
  },
  {
   "cell_type": "markdown",
   "metadata": {},
   "source": [
    "## Análisis Exploratorio de los Datos"
   ]
  },
  {
   "cell_type": "code",
   "execution_count": 6,
   "metadata": {},
   "outputs": [
    {
     "data": {
      "text/plain": [
       "       y               x        z      t     \n",
       " Min.   : 0.00   Min.   : 1.0   0:50   1:20  \n",
       " 1st Qu.: 8.00   1st Qu.: 3.0   1:50   2:20  \n",
       " Median :36.00   Median : 5.5          3:20  \n",
       " Mean   :39.61   Mean   : 5.5          4:20  \n",
       " 3rd Qu.:65.50   3rd Qu.: 8.0          5:20  \n",
       " Max.   :98.00   Max.   :10.0                "
      ]
     },
     "metadata": {},
     "output_type": "display_data"
    }
   ],
   "source": [
    "summary(datos)"
   ]
  },
  {
   "cell_type": "code",
   "execution_count": 7,
   "metadata": {},
   "outputs": [
    {
     "data": {
      "text/html": [
       "3961"
      ],
      "text/latex": [
       "3961"
      ],
      "text/markdown": [
       "3961"
      ],
      "text/plain": [
       "[1] 3961"
      ]
     },
     "metadata": {},
     "output_type": "display_data"
    }
   ],
   "source": [
    "sum(datos$y)"
   ]
  },
  {
   "cell_type": "code",
   "execution_count": 8,
   "metadata": {},
   "outputs": [
    {
     "data": {
      "text/plain": [
       ", , z = 0\n",
       "\n",
       "    t\n",
       "x     1  2  3  4  5\n",
       "  1   2  1  2  0  0\n",
       "  2   3  2  3  2  0\n",
       "  3   1  4  1  1  1\n",
       "  4   7  3  6  4  1\n",
       "  5   7 14  8  4  9\n",
       "  6   8  8  6  8 17\n",
       "  7  14 20 17 17 18\n",
       "  8  27 28 26 28 36\n",
       "  9  41 32 38 38 39\n",
       "  10 48 49 50 50 56\n",
       "\n",
       ", , z = 1\n",
       "\n",
       "    t\n",
       "x     1  2  3  4  5\n",
       "  1  18 17 16 22 18\n",
       "  2  25 29 37 27 22\n",
       "  3  38 41 38 36 43\n",
       "  4  54 47 54 53 47\n",
       "  5  61 64 60 56 64\n",
       "  6  70 76 71 76 78\n",
       "  7  83 81 73 82 80\n",
       "  8  87 88 90 90 87\n",
       "  9  94 98 92 98 94\n",
       "  10 98 96 94 96 97\n"
      ]
     },
     "metadata": {},
     "output_type": "display_data"
    }
   ],
   "source": [
    "xtabs(y ~ x + t + z, datos)"
   ]
  },
  {
   "cell_type": "code",
   "execution_count": 9,
   "metadata": {},
   "outputs": [
    {
     "data": {
      "image/png": "[encoded data removed]",
      "text/plain": [
       "plot without title"
      ]
     },
     "metadata": {},
     "output_type": "display_data"
    }
   ],
   "source": [
    "pairs(y ~ x + t + z, datos, pch = 20)"
   ]
  },
  {
   "cell_type": "markdown",
   "metadata": {},
   "source": [
    "## Ajuste del Modelo"
   ]
  },
  {
   "cell_type": "code",
   "execution_count": 10,
   "metadata": {},
   "outputs": [],
   "source": [
    "datos.tunned <- datos %>% \n",
    "    rename(sucesses = y) %>%\n",
    "    mutate(failures = 100 - sucesses)"
   ]
  },
  {
   "cell_type": "markdown",
   "metadata": {},
   "source": [
    "### Modelo Logístico Completo (full)"
   ]
  },
  {
   "cell_type": "code",
   "execution_count": 11,
   "metadata": {},
   "outputs": [],
   "source": [
    "model.logit.full <- glm(cbind(sucesses, failures) ~ x + t + z, data = datos.tunned, \n",
    "                     family = binomial(link = logit))"
   ]
  },
  {
   "cell_type": "code",
   "execution_count": 12,
   "metadata": {},
   "outputs": [
    {
     "data": {
      "text/plain": [
       "\n",
       "Call:\n",
       "glm(formula = cbind(sucesses, failures) ~ x + t + z, family = binomial(link = logit), \n",
       "    data = datos.tunned)\n",
       "\n",
       "Deviance Residuals: \n",
       "     Min        1Q    Median        3Q       Max  \n",
       "-2.28796  -0.60134   0.04575   0.49385   2.41219  \n",
       "\n",
       "Coefficients:\n",
       "             Estimate Std. Error z value Pr(>|z|)    \n",
       "(Intercept) -5.163053   0.117652 -43.884   <2e-16 ***\n",
       "x            0.515782   0.012217  42.218   <2e-16 ***\n",
       "t2           0.044675   0.086293   0.518    0.605    \n",
       "t3          -0.014940   0.086429  -0.173    0.863    \n",
       "t4           0.007461   0.086376   0.086    0.931    \n",
       "t5           0.078046   0.086224   0.905    0.365    \n",
       "z1           3.101047   0.067702  45.804   <2e-16 ***\n",
       "---\n",
       "Signif. codes:  0 ‘***’ 0.001 ‘**’ 0.01 ‘*’ 0.05 ‘.’ 0.1 ‘ ’ 1\n",
       "\n",
       "(Dispersion parameter for binomial family taken to be 1)\n",
       "\n",
       "    Null deviance: 5187.820  on 99  degrees of freedom\n",
       "Residual deviance:   87.865  on 93  degrees of freedom\n",
       "AIC: 504.62\n",
       "\n",
       "Number of Fisher Scoring iterations: 4\n"
      ]
     },
     "metadata": {},
     "output_type": "display_data"
    }
   ],
   "source": [
    "summary(model.logit.full)"
   ]
  },
  {
   "cell_type": "markdown",
   "metadata": {},
   "source": [
    "Como vemos, en el modelo con todas las variables, la influencia de las categorías formadas por la variable cualitativa *t* no aporta información significativa para el ajuste de la variable $y$. Por lo tanto, se eliminará del modelo para así tratar de simplificar el mismo."
   ]
  },
  {
   "cell_type": "markdown",
   "metadata": {},
   "source": [
    "### Modelo Logístico Restringido"
   ]
  },
  {
   "cell_type": "code",
   "execution_count": 13,
   "metadata": {},
   "outputs": [],
   "source": [
    "model.logit <- glm(cbind(sucesses, failures) ~ x + z, data = datos.tunned, \n",
    "             family = binomial(link = logit))"
   ]
  },
  {
   "cell_type": "code",
   "execution_count": 14,
   "metadata": {},
   "outputs": [
    {
     "data": {
      "text/plain": [
       "\n",
       "Call:\n",
       "glm(formula = cbind(sucesses, failures) ~ x + z, family = binomial(link = logit), \n",
       "    data = datos.tunned)\n",
       "\n",
       "Deviance Residuals: \n",
       "     Min        1Q    Median        3Q       Max  \n",
       "-2.43976  -0.67094   0.02646   0.51833   2.36379  \n",
       "\n",
       "Coefficients:\n",
       "            Estimate Std. Error z value Pr(>|z|)    \n",
       "(Intercept) -5.13896    0.10388  -49.47   <2e-16 ***\n",
       "x            0.51568    0.01221   42.22   <2e-16 ***\n",
       "z1           3.10041    0.06769   45.80   <2e-16 ***\n",
       "---\n",
       "Signif. codes:  0 ‘***’ 0.001 ‘**’ 0.01 ‘*’ 0.05 ‘.’ 0.1 ‘ ’ 1\n",
       "\n",
       "(Dispersion parameter for binomial family taken to be 1)\n",
       "\n",
       "    Null deviance: 5187.820  on 99  degrees of freedom\n",
       "Residual deviance:   89.401  on 97  degrees of freedom\n",
       "AIC: 498.15\n",
       "\n",
       "Number of Fisher Scoring iterations: 4\n"
      ]
     },
     "metadata": {},
     "output_type": "display_data"
    }
   ],
   "source": [
    "summary(model.logit)"
   ]
  },
  {
   "cell_type": "markdown",
   "metadata": {},
   "source": [
    "Con el modelo ajustado únicamente por las variables $X$ y $Z$ se consigue que ahora todos los parámetros sean significativos. A pesar de que en este caso la deviance residual del modelo es mayor ($89.401$ frente a $87.865$ del modelo con todas las variables predictoras), el AIC es menor. Esto es porque la reducción del número de parámetro a estimar \"compensa\" el peor ajuste del modelo."
   ]
  },
  {
   "cell_type": "markdown",
   "metadata": {},
   "source": [
    "### Modelo Normal Inverso (probit)"
   ]
  },
  {
   "cell_type": "markdown",
   "metadata": {},
   "source": [
    "Para comprobar el ajuste sobre un modelo lineal generalizado con respuesta de tipo binomial diferente al logístico, se va a realizar un ajuste utilizando la función de enlace normal estándar inversa."
   ]
  },
  {
   "cell_type": "code",
   "execution_count": 15,
   "metadata": {},
   "outputs": [],
   "source": [
    "model.probit <- glm(cbind(sucesses, failures) ~ x + z, data = datos.tunned,\n",
    "                    family = binomial(link = probit))"
   ]
  },
  {
   "cell_type": "code",
   "execution_count": 16,
   "metadata": {},
   "outputs": [
    {
     "data": {
      "text/plain": [
       "\n",
       "Call:\n",
       "glm(formula = cbind(sucesses, failures) ~ x + z, family = binomial(link = probit), \n",
       "    data = datos.tunned)\n",
       "\n",
       "Deviance Residuals: \n",
       "    Min       1Q   Median       3Q      Max  \n",
       "-2.0931  -0.6003  -0.1092   0.6668   2.3895  \n",
       "\n",
       "Coefficients:\n",
       "             Estimate Std. Error z value Pr(>|z|)    \n",
       "(Intercept) -2.937276   0.053728  -54.67   <2e-16 ***\n",
       "x            0.293968   0.006519   45.09   <2e-16 ***\n",
       "z1           1.777507   0.035824   49.62   <2e-16 ***\n",
       "---\n",
       "Signif. codes:  0 ‘***’ 0.001 ‘**’ 0.01 ‘*’ 0.05 ‘.’ 0.1 ‘ ’ 1\n",
       "\n",
       "(Dispersion parameter for binomial family taken to be 1)\n",
       "\n",
       "    Null deviance: 5187.820  on 99  degrees of freedom\n",
       "Residual deviance:   92.839  on 97  degrees of freedom\n",
       "AIC: 501.59\n",
       "\n",
       "Number of Fisher Scoring iterations: 4\n"
      ]
     },
     "metadata": {},
     "output_type": "display_data"
    }
   ],
   "source": [
    "summary(model.probit)"
   ]
  },
  {
   "cell_type": "markdown",
   "metadata": {},
   "source": [
    "En este caso, el ajuste sigue siendo similar al logístico, obteniendo una deviance residual similiar, junto con un AIC menor que el obtenido por el modelo logístico completo (por el uso de un menor número de variables). Sin embargo, en este caso el modelo no obtiene mejores resultados que el modelo logístico restringido al uso de las variables $X$ y $Z$."
   ]
  },
  {
   "cell_type": "markdown",
   "metadata": {},
   "source": [
    "A continuación se incluyen las tablas resumen que recogen los valores del Criterio de Akaike y del Criterio Bayesiano, donde ambos indican el mejor ajuste del modelo logístico restringido."
   ]
  },
  {
   "cell_type": "code",
   "execution_count": 17,
   "metadata": {},
   "outputs": [
    {
     "data": {
      "text/html": [
       "<table>\n",
       "<thead><tr><th></th><th scope=col>df</th><th scope=col>AIC</th></tr></thead>\n",
       "<tbody>\n",
       "\t<tr><th scope=row>model.logit.full</th><td>7       </td><td>504.6179</td></tr>\n",
       "\t<tr><th scope=row>model.logit</th><td>3       </td><td>498.1535</td></tr>\n",
       "\t<tr><th scope=row>model.probit</th><td>3       </td><td>501.5914</td></tr>\n",
       "</tbody>\n",
       "</table>\n"
      ],
      "text/latex": [
       "\\begin{tabular}{r|ll}\n",
       "  & df & AIC\\\\\n",
       "\\hline\n",
       "\tmodel.logit.full & 7        & 504.6179\\\\\n",
       "\tmodel.logit & 3        & 498.1535\\\\\n",
       "\tmodel.probit & 3        & 501.5914\\\\\n",
       "\\end{tabular}\n"
      ],
      "text/markdown": [
       "\n",
       "| <!--/--> | df | AIC | \n",
       "|---|---|---|\n",
       "| model.logit.full | 7        | 504.6179 | \n",
       "| model.logit | 3        | 498.1535 | \n",
       "| model.probit | 3        | 501.5914 | \n",
       "\n",
       "\n"
      ],
      "text/plain": [
       "                 df AIC     \n",
       "model.logit.full 7  504.6179\n",
       "model.logit      3  498.1535\n",
       "model.probit     3  501.5914"
      ]
     },
     "metadata": {},
     "output_type": "display_data"
    }
   ],
   "source": [
    "AIC(model.logit.full, model.logit, model.probit)"
   ]
  },
  {
   "cell_type": "code",
   "execution_count": 18,
   "metadata": {},
   "outputs": [
    {
     "data": {
      "text/html": [
       "<table>\n",
       "<thead><tr><th></th><th scope=col>df</th><th scope=col>BIC</th></tr></thead>\n",
       "<tbody>\n",
       "\t<tr><th scope=row>model.logit.full</th><td>7       </td><td>522.8541</td></tr>\n",
       "\t<tr><th scope=row>model.logit</th><td>3       </td><td>505.9690</td></tr>\n",
       "\t<tr><th scope=row>model.probit</th><td>3       </td><td>509.4069</td></tr>\n",
       "</tbody>\n",
       "</table>\n"
      ],
      "text/latex": [
       "\\begin{tabular}{r|ll}\n",
       "  & df & BIC\\\\\n",
       "\\hline\n",
       "\tmodel.logit.full & 7        & 522.8541\\\\\n",
       "\tmodel.logit & 3        & 505.9690\\\\\n",
       "\tmodel.probit & 3        & 509.4069\\\\\n",
       "\\end{tabular}\n"
      ],
      "text/markdown": [
       "\n",
       "| <!--/--> | df | BIC | \n",
       "|---|---|---|\n",
       "| model.logit.full | 7        | 522.8541 | \n",
       "| model.logit | 3        | 505.9690 | \n",
       "| model.probit | 3        | 509.4069 | \n",
       "\n",
       "\n"
      ],
      "text/plain": [
       "                 df BIC     \n",
       "model.logit.full 7  522.8541\n",
       "model.logit      3  505.9690\n",
       "model.probit     3  509.4069"
      ]
     },
     "metadata": {},
     "output_type": "display_data"
    }
   ],
   "source": [
    "BIC(model.logit.full, model.logit, model.probit)"
   ]
  },
  {
   "cell_type": "markdown",
   "metadata": {},
   "source": [
    "Por lo tanto, el modelo que se ha elegido es el siguiente (donde $y$ en este caso representaría la observacion sin agrupar y $logit(p) = log(\\frac{p}{1-p})$):\n",
    "\n",
    "$$E[logit(y)] = X + Z$$"
   ]
  },
  {
   "cell_type": "markdown",
   "metadata": {},
   "source": [
    "## Intervalos de Confianza"
   ]
  },
  {
   "cell_type": "code",
   "execution_count": 19,
   "metadata": {},
   "outputs": [],
   "source": [
    "logit <- function(p) {\n",
    "    log(p / (1 - p))\n",
    "}"
   ]
  },
  {
   "cell_type": "code",
   "execution_count": 20,
   "metadata": {},
   "outputs": [],
   "source": [
    "inv.logit <- function(x) {\n",
    "    exp(x) / (1 + exp(x))\n",
    "}"
   ]
  },
  {
   "cell_type": "markdown",
   "metadata": {},
   "source": [
    "### Odds-Ratio"
   ]
  },
  {
   "cell_type": "markdown",
   "metadata": {},
   "source": [
    "Los intervalos de confianza para las odd ratios se pueden conseguir a partir de las funciones *confint* (verosimilitud perfil) y *confint.default* (Wald) de manera sencilla."
   ]
  },
  {
   "cell_type": "markdown",
   "metadata": {},
   "source": [
    "#### Verosimilitud Perfil"
   ]
  },
  {
   "cell_type": "code",
   "execution_count": 21,
   "metadata": {},
   "outputs": [
    {
     "name": "stderr",
     "output_type": "stream",
     "text": [
      "Waiting for profiling to be done...\n"
     ]
    },
    {
     "data": {
      "text/html": [
       "<table>\n",
       "<thead><tr><th></th><th scope=col>2.5 %</th><th scope=col>97.5 %</th></tr></thead>\n",
       "<tbody>\n",
       "\t<tr><th scope=row>(Intercept)</th><td>-5.3450602</td><td>-4.9378172</td></tr>\n",
       "\t<tr><th scope=row>x</th><td> 0.4919734</td><td> 0.5398608</td></tr>\n",
       "\t<tr><th scope=row>z1</th><td> 2.9690507</td><td> 3.2344230</td></tr>\n",
       "</tbody>\n",
       "</table>\n"
      ],
      "text/latex": [
       "\\begin{tabular}{r|ll}\n",
       "  & 2.5 \\% & 97.5 \\%\\\\\n",
       "\\hline\n",
       "\t(Intercept) & -5.3450602 & -4.9378172\\\\\n",
       "\tx &  0.4919734 &  0.5398608\\\\\n",
       "\tz1 &  2.9690507 &  3.2344230\\\\\n",
       "\\end{tabular}\n"
      ],
      "text/markdown": [
       "\n",
       "| <!--/--> | 2.5 % | 97.5 % | \n",
       "|---|---|---|\n",
       "| (Intercept) | -5.3450602 | -4.9378172 | \n",
       "| x |  0.4919734 |  0.5398608 | \n",
       "| z1 |  2.9690507 |  3.2344230 | \n",
       "\n",
       "\n"
      ],
      "text/plain": [
       "            2.5 %      97.5 %    \n",
       "(Intercept) -5.3450602 -4.9378172\n",
       "x            0.4919734  0.5398608\n",
       "z1           2.9690507  3.2344230"
      ]
     },
     "metadata": {},
     "output_type": "display_data"
    }
   ],
   "source": [
    "confint(model.logit)"
   ]
  },
  {
   "cell_type": "markdown",
   "metadata": {},
   "source": [
    "#### Wald"
   ]
  },
  {
   "cell_type": "code",
   "execution_count": 22,
   "metadata": {},
   "outputs": [
    {
     "data": {
      "text/html": [
       "<table>\n",
       "<thead><tr><th></th><th scope=col>2.5 %</th><th scope=col>97.5 %</th></tr></thead>\n",
       "<tbody>\n",
       "\t<tr><th scope=row>(Intercept)</th><td>-5.3425549</td><td>-4.9353591</td></tr>\n",
       "\t<tr><th scope=row>x</th><td> 0.4917373</td><td> 0.5396189</td></tr>\n",
       "\t<tr><th scope=row>z1</th><td> 2.9677440</td><td> 3.2330787</td></tr>\n",
       "</tbody>\n",
       "</table>\n"
      ],
      "text/latex": [
       "\\begin{tabular}{r|ll}\n",
       "  & 2.5 \\% & 97.5 \\%\\\\\n",
       "\\hline\n",
       "\t(Intercept) & -5.3425549 & -4.9353591\\\\\n",
       "\tx &  0.4917373 &  0.5396189\\\\\n",
       "\tz1 &  2.9677440 &  3.2330787\\\\\n",
       "\\end{tabular}\n"
      ],
      "text/markdown": [
       "\n",
       "| <!--/--> | 2.5 % | 97.5 % | \n",
       "|---|---|---|\n",
       "| (Intercept) | -5.3425549 | -4.9353591 | \n",
       "| x |  0.4917373 |  0.5396189 | \n",
       "| z1 |  2.9677440 |  3.2330787 | \n",
       "\n",
       "\n"
      ],
      "text/plain": [
       "            2.5 %      97.5 %    \n",
       "(Intercept) -5.3425549 -4.9353591\n",
       "x            0.4917373  0.5396189\n",
       "z1           2.9677440  3.2330787"
      ]
     },
     "metadata": {},
     "output_type": "display_data"
    }
   ],
   "source": [
    "confint.default(model.logit)"
   ]
  },
  {
   "cell_type": "markdown",
   "metadata": {},
   "source": [
    "Los intervalos basados en ambos métodos son muy similares, por lo que interpretaremos de manera indistinta ambos. [TODO]"
   ]
  },
  {
   "cell_type": "markdown",
   "metadata": {},
   "source": [
    "### Dosis Letal (40%)"
   ]
  },
  {
   "cell_type": "code",
   "execution_count": 23,
   "metadata": {},
   "outputs": [],
   "source": [
    "letal <- dose.p(model.logit, p = 0.4)"
   ]
  },
  {
   "cell_type": "code",
   "execution_count": 24,
   "metadata": {},
   "outputs": [],
   "source": [
    "dosis.pivot <- as.numeric(letal)\n",
    "dosis.se <- as.numeric(attr(letal, \"SE\"))"
   ]
  },
  {
   "cell_type": "code",
   "execution_count": 25,
   "metadata": {},
   "outputs": [
    {
     "data": {
      "text/html": [
       "<ol class=list-inline>\n",
       "\t<li>9.00320175270726</li>\n",
       "\t<li>9.35511850695348</li>\n",
       "</ol>\n"
      ],
      "text/latex": [
       "\\begin{enumerate*}\n",
       "\\item 9.00320175270726\n",
       "\\item 9.35511850695348\n",
       "\\end{enumerate*}\n"
      ],
      "text/markdown": [
       "1. 9.00320175270726\n",
       "2. 9.35511850695348\n",
       "\n",
       "\n"
      ],
      "text/plain": [
       "[1] 9.003202 9.355119"
      ]
     },
     "metadata": {},
     "output_type": "display_data"
    }
   ],
   "source": [
    "dosis.pivot + c(-1, 1) * qnorm(0.975) * dosis.se"
   ]
  },
  {
   "cell_type": "markdown",
   "metadata": {},
   "source": [
    "### Niveles de Variables Explicativas"
   ]
  },
  {
   "cell_type": "code",
   "execution_count": 26,
   "metadata": {},
   "outputs": [],
   "source": [
    "aa <- data.frame(x = rep(seq(1, 10), 2), z = as.factor(c(rep(0, 10), rep(1, 10))))\n",
    "\n",
    "aa$predictions <- inv.logit(predict(model.logit, aa))"
   ]
  },
  {
   "cell_type": "code",
   "execution_count": 27,
   "metadata": {},
   "outputs": [],
   "source": [
    "aa$lower <- aa$predictions - qnorm(0.95) * sqrt(aa$predictions *  (1 - aa$predictions))\n",
    "aa$upper <- aa$predictions + qnorm(0.95) * sqrt(aa$predictions *  (1 - aa$predictions))"
   ]
  },
  {
   "cell_type": "code",
   "execution_count": 28,
   "metadata": {},
   "outputs": [
    {
     "data": {
      "text/html": [
       "<table>\n",
       "<thead><tr><th scope=col>x</th><th scope=col>z</th><th scope=col>predictions</th><th scope=col>lower</th><th scope=col>upper</th></tr></thead>\n",
       "<tbody>\n",
       "\t<tr><td> 1         </td><td>0          </td><td>0.009725037</td><td>-0.15169253</td><td>0.1711426  </td></tr>\n",
       "\t<tr><td> 2         </td><td>0          </td><td>0.016181055</td><td>-0.19135247</td><td>0.2237146  </td></tr>\n",
       "\t<tr><td> 3         </td><td>0          </td><td>0.026806913</td><td>-0.23886777</td><td>0.2924816  </td></tr>\n",
       "\t<tr><td> 4         </td><td>0          </td><td>0.044097847</td><td>-0.29361118</td><td>0.3818069  </td></tr>\n",
       "\t<tr><td> 5         </td><td>0          </td><td>0.071719819</td><td>-0.35269094</td><td>0.4961306  </td></tr>\n",
       "\t<tr><td> 6         </td><td>0          </td><td>0.114569902</td><td>-0.40931957</td><td>0.6384594  </td></tr>\n",
       "\t<tr><td> 7         </td><td>0          </td><td>0.178109262</td><td>-0.45121946</td><td>0.8074380  </td></tr>\n",
       "\t<tr><td> 8         </td><td>0          </td><td>0.266289169</td><td>-0.46076450</td><td>0.9933428  </td></tr>\n",
       "\t<tr><td> 9         </td><td>0          </td><td>0.378045104</td><td>-0.41954271</td><td>1.1756329  </td></tr>\n",
       "\t<tr><td>10         </td><td>0          </td><td>0.504455892</td><td>-0.31793826</td><td>1.3268500  </td></tr>\n",
       "\t<tr><td> 1         </td><td>1          </td><td>0.179039641</td><td>-0.45157340</td><td>0.8096527  </td></tr>\n",
       "\t<tr><td> 2         </td><td>1          </td><td>0.267530234</td><td>-0.46059913</td><td>0.9956596  </td></tr>\n",
       "\t<tr><td> 3         </td><td>1          </td><td>0.379537590</td><td>-0.41866364</td><td>1.1777388  </td></tr>\n",
       "\t<tr><td> 4         </td><td>1          </td><td>0.506041388</td><td>-0.31632539</td><td>1.3284082  </td></tr>\n",
       "\t<tr><td> 5         </td><td>1          </td><td>0.631776321</td><td>-0.16157360</td><td>1.4251262  </td></tr>\n",
       "\t<tr><td> 6         </td><td>1          </td><td>0.741834044</td><td> 0.02200374</td><td>1.4616643  </td></tr>\n",
       "\t<tr><td> 7         </td><td>1          </td><td>0.827954759</td><td> 0.20715450</td><td>1.4487550  </td></tr>\n",
       "\t<tr><td> 8         </td><td>1          </td><td>0.889621345</td><td> 0.37418813</td><td>1.4050546  </td></tr>\n",
       "\t<tr><td> 9         </td><td>1          </td><td>0.931025979</td><td> 0.51420369</td><td>1.3478483  </td></tr>\n",
       "\t<tr><td>10         </td><td>1          </td><td>0.957638700</td><td> 0.62634533</td><td>1.2889321  </td></tr>\n",
       "</tbody>\n",
       "</table>\n"
      ],
      "text/latex": [
       "\\begin{tabular}{r|lllll}\n",
       " x & z & predictions & lower & upper\\\\\n",
       "\\hline\n",
       "\t  1          & 0           & 0.009725037 & -0.15169253 & 0.1711426  \\\\\n",
       "\t  2          & 0           & 0.016181055 & -0.19135247 & 0.2237146  \\\\\n",
       "\t  3          & 0           & 0.026806913 & -0.23886777 & 0.2924816  \\\\\n",
       "\t  4          & 0           & 0.044097847 & -0.29361118 & 0.3818069  \\\\\n",
       "\t  5          & 0           & 0.071719819 & -0.35269094 & 0.4961306  \\\\\n",
       "\t  6          & 0           & 0.114569902 & -0.40931957 & 0.6384594  \\\\\n",
       "\t  7          & 0           & 0.178109262 & -0.45121946 & 0.8074380  \\\\\n",
       "\t  8          & 0           & 0.266289169 & -0.46076450 & 0.9933428  \\\\\n",
       "\t  9          & 0           & 0.378045104 & -0.41954271 & 1.1756329  \\\\\n",
       "\t 10          & 0           & 0.504455892 & -0.31793826 & 1.3268500  \\\\\n",
       "\t  1          & 1           & 0.179039641 & -0.45157340 & 0.8096527  \\\\\n",
       "\t  2          & 1           & 0.267530234 & -0.46059913 & 0.9956596  \\\\\n",
       "\t  3          & 1           & 0.379537590 & -0.41866364 & 1.1777388  \\\\\n",
       "\t  4          & 1           & 0.506041388 & -0.31632539 & 1.3284082  \\\\\n",
       "\t  5          & 1           & 0.631776321 & -0.16157360 & 1.4251262  \\\\\n",
       "\t  6          & 1           & 0.741834044 &  0.02200374 & 1.4616643  \\\\\n",
       "\t  7          & 1           & 0.827954759 &  0.20715450 & 1.4487550  \\\\\n",
       "\t  8          & 1           & 0.889621345 &  0.37418813 & 1.4050546  \\\\\n",
       "\t  9          & 1           & 0.931025979 &  0.51420369 & 1.3478483  \\\\\n",
       "\t 10          & 1           & 0.957638700 &  0.62634533 & 1.2889321  \\\\\n",
       "\\end{tabular}\n"
      ],
      "text/markdown": [
       "\n",
       "x | z | predictions | lower | upper | \n",
       "|---|---|---|---|---|---|---|---|---|---|---|---|---|---|---|---|---|---|---|---|\n",
       "|  1          | 0           | 0.009725037 | -0.15169253 | 0.1711426   | \n",
       "|  2          | 0           | 0.016181055 | -0.19135247 | 0.2237146   | \n",
       "|  3          | 0           | 0.026806913 | -0.23886777 | 0.2924816   | \n",
       "|  4          | 0           | 0.044097847 | -0.29361118 | 0.3818069   | \n",
       "|  5          | 0           | 0.071719819 | -0.35269094 | 0.4961306   | \n",
       "|  6          | 0           | 0.114569902 | -0.40931957 | 0.6384594   | \n",
       "|  7          | 0           | 0.178109262 | -0.45121946 | 0.8074380   | \n",
       "|  8          | 0           | 0.266289169 | -0.46076450 | 0.9933428   | \n",
       "|  9          | 0           | 0.378045104 | -0.41954271 | 1.1756329   | \n",
       "| 10          | 0           | 0.504455892 | -0.31793826 | 1.3268500   | \n",
       "|  1          | 1           | 0.179039641 | -0.45157340 | 0.8096527   | \n",
       "|  2          | 1           | 0.267530234 | -0.46059913 | 0.9956596   | \n",
       "|  3          | 1           | 0.379537590 | -0.41866364 | 1.1777388   | \n",
       "|  4          | 1           | 0.506041388 | -0.31632539 | 1.3284082   | \n",
       "|  5          | 1           | 0.631776321 | -0.16157360 | 1.4251262   | \n",
       "|  6          | 1           | 0.741834044 |  0.02200374 | 1.4616643   | \n",
       "|  7          | 1           | 0.827954759 |  0.20715450 | 1.4487550   | \n",
       "|  8          | 1           | 0.889621345 |  0.37418813 | 1.4050546   | \n",
       "|  9          | 1           | 0.931025979 |  0.51420369 | 1.3478483   | \n",
       "| 10          | 1           | 0.957638700 |  0.62634533 | 1.2889321   | \n",
       "\n",
       "\n"
      ],
      "text/plain": [
       "   x  z predictions lower       upper    \n",
       "1   1 0 0.009725037 -0.15169253 0.1711426\n",
       "2   2 0 0.016181055 -0.19135247 0.2237146\n",
       "3   3 0 0.026806913 -0.23886777 0.2924816\n",
       "4   4 0 0.044097847 -0.29361118 0.3818069\n",
       "5   5 0 0.071719819 -0.35269094 0.4961306\n",
       "6   6 0 0.114569902 -0.40931957 0.6384594\n",
       "7   7 0 0.178109262 -0.45121946 0.8074380\n",
       "8   8 0 0.266289169 -0.46076450 0.9933428\n",
       "9   9 0 0.378045104 -0.41954271 1.1756329\n",
       "10 10 0 0.504455892 -0.31793826 1.3268500\n",
       "11  1 1 0.179039641 -0.45157340 0.8096527\n",
       "12  2 1 0.267530234 -0.46059913 0.9956596\n",
       "13  3 1 0.379537590 -0.41866364 1.1777388\n",
       "14  4 1 0.506041388 -0.31632539 1.3284082\n",
       "15  5 1 0.631776321 -0.16157360 1.4251262\n",
       "16  6 1 0.741834044  0.02200374 1.4616643\n",
       "17  7 1 0.827954759  0.20715450 1.4487550\n",
       "18  8 1 0.889621345  0.37418813 1.4050546\n",
       "19  9 1 0.931025979  0.51420369 1.3478483\n",
       "20 10 1 0.957638700  0.62634533 1.2889321"
      ]
     },
     "metadata": {},
     "output_type": "display_data"
    }
   ],
   "source": [
    "aa"
   ]
  },
  {
   "cell_type": "code",
   "execution_count": 29,
   "metadata": {},
   "outputs": [
    {
     "data": {},
     "metadata": {},
     "output_type": "display_data"
    },
    {
     "data": {
      "image/png": "[encoded data removed]",
      "text/plain": [
       "plot without title"
      ]
     },
     "metadata": {},
     "output_type": "display_data"
    }
   ],
   "source": [
    "ggplot(aa, aes(y = predictions, x = x, colour = z)) + \n",
    "    geom_line() + \n",
    "    geom_ribbon(aes(ymin = lower, ymax=upper), alpha = 0.2, colour=NA) + \n",
    "    facet_grid(~ z) +\n",
    "    coord_cartesian(ylim = c(0, 1)) +\n",
    "    theme(legend.position = \"top\")"
   ]
  }
 ],
 "metadata": {
  "kernelspec": {
   "display_name": "R",
   "language": "R",
   "name": "ir"
  },
  "language_info": {
   "codemirror_mode": "r",
   "file_extension": ".r",
   "mimetype": "text/x-r-source",
   "name": "R",
   "pygments_lexer": "r",
   "version": "3.5.1"
  }
 },
 "nbformat": 4,
 "nbformat_minor": 2
}
